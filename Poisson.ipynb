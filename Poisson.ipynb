{
 "cells": [
  {
   "cell_type": "code",
   "execution_count": 1,
   "id": "81ef8be1",
   "metadata": {},
   "outputs": [],
   "source": [
    "import random \n",
    "import math \n",
    "from decimal import Decimal\n",
    "\n",
    "\n",
    "def poisson_rv_generator(num, lam):\n",
    "    numlist = []\n",
    "\n",
    "    while num > 0:\n",
    "        \n",
    "        alpha = random.random()\n",
    "        x = lam * math.log(1 - alpha)\n",
    "        y = 0\n",
    "        z = random.random()\n",
    "        \n",
    "        a = x\n",
    "        b = 1\n",
    "        c = 1\n",
    "        \n",
    "        while z > a:\n",
    "            y = y + 1\n",
    "            b = b * y\n",
    "            c = lam * c\n",
    "            a = a + c/b * x\n",
    "        \n",
    "        numlist.append(y)\n",
    "        \n",
    "        num = num - 1\n",
    "            \n",
    "    return numlist"
   ]
  },
  {
   "cell_type": "code",
   "execution_count": 2,
   "id": "250ca2fc",
   "metadata": {},
   "outputs": [],
   "source": [
    "poisson_rv_generator(1000, 2)"
   ]
  },
  {
   "cell_type": "code",
   "execution_count": null,
   "id": "fa0419bf",
   "metadata": {},
   "outputs": [],
   "source": []
  }
 ],
 "metadata": {
  "kernelspec": {
   "display_name": "Python 3 (ipykernel)",
   "language": "python",
   "name": "python3"
  },
  "language_info": {
   "codemirror_mode": {
    "name": "ipython",
    "version": 3
   },
   "file_extension": ".py",
   "mimetype": "text/x-python",
   "name": "python",
   "nbconvert_exporter": "python",
   "pygments_lexer": "ipython3",
   "version": "3.9.12"
  }
 },
 "nbformat": 4,
 "nbformat_minor": 5
}
